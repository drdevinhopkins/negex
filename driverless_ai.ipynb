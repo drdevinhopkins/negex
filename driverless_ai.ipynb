{
  "nbformat": 4,
  "nbformat_minor": 0,
  "metadata": {
    "colab": {
      "name": "driverless_ai.ipynb",
      "version": "0.3.2",
      "provenance": [],
      "collapsed_sections": [],
      "include_colab_link": true
    },
    "kernelspec": {
      "name": "python3",
      "display_name": "Python 3"
    },
    "accelerator": "TPU"
  },
  "cells": [
    {
      "cell_type": "markdown",
      "metadata": {
        "id": "view-in-github",
        "colab_type": "text"
      },
      "source": [
        "<a href=\"https://colab.research.google.com/github/drdevinhopkins/negex/blob/master/driverless_ai.ipynb\" target=\"_parent\"><img src=\"https://colab.research.google.com/assets/colab-badge.svg\" alt=\"Open In Colab\"/></a>"
      ]
    },
    {
      "cell_type": "markdown",
      "metadata": {
        "id": "Qwgpk8oIPVkb",
        "colab_type": "text"
      },
      "source": [
        "Dont forget to update AUTH_TOKEN to equal your ngrok key\n",
        "\n",
        "Also update LICENSE_KEY to equal driverless ai key\n",
        "\n",
        "To use driverless go to the link printed below\n",
        "\n",
        "Driverless auth: Username: h2oai Password: h2oai"
      ]
    },
    {
      "cell_type": "code",
      "metadata": {
        "id": "KFs57E-6hM8l",
        "colab_type": "code",
        "outputId": "0f0fc624-6e46-4b6d-812a-f23871aeedd1",
        "colab": {
          "base_uri": "https://localhost:8080/",
          "height": 1000
        }
      },
      "source": [
        "LICENSE_KEY = \"mHQkcIBxC0q0k0LwxjukVfOL15PTqkFuujHg8NrN9dfNLVF9TR56YDe5iYs5M_h8_jwyZ7_hppUdM7sUWO_QzdTw431bFHV_OngsmlmnZhPm0SEXP3GKJZ7FIsuZLUv7PLYMHJw9qMBDB1yvyOyy54DgBWi5itjTmUry6gFwYFimxI55HQMXex7E4dFR4Mwh8n-_flXz81dPMAaS4jkTOjtE61I7LPVDT6LJWn5_9TRdH106TN2xh73-yum5TDpI7ByndJZ3CaQzgO53kPvajYEFkUZqbbKbmDHzR4LXCwojogBOpYxSoC2Ze2n0k73toRbGD_Y30VO2s7psaMWzs2xpY2Vuc2VfdmVyc2lvbjoxCnNlcmlhbF9udW1iZXI6MzU5NzEKbGljZW5zZWVfb3JnYW5pemF0aW9uOk1jR2lsbCBVbml2ZXJzaXR5CmxpY2Vuc2VlX2VtYWlsOmRldmluLmhvcGtpbnNAbWNnaWxsLmNhCmxpY2Vuc2VlX3VzZXJfaWQ6MzU5NzEKaXNfaDJvX2ludGVybmFsX3VzZTpmYWxzZQpjcmVhdGVkX2J5X2VtYWlsOmtheUBoMm8uYWkKY3JlYXRpb25fZGF0ZToyMDE5LzA3LzEzCnByb2R1Y3Q6RHJpdmVybGVzc0FJCmxpY2Vuc2VfdHlwZTp0cmlhbApleHBpcmF0aW9uX2RhdGU6MjAxOS8wOC8wMwo=\"\n",
        "\n",
        "# install driverless\n",
        "!mkdir /root/.driverlessai\n",
        "! echo $LICENSE_KEY >> /root/.driverlessai/license.sig\n",
        "\n",
        "! apt-get update\n",
        "!apt-get install -y libcairo2 libpango1.0-0 opencl-headers clinfo ocl-icd-opencl-dev\n",
        "! mkdir -p /etc/OpenCL/vendors && echo \"libnvidia-opencl.so.1\" > /etc/OpenCL/vendors/nvidia.icd\n",
        "\n",
        "#!wget https://s3.amazonaws.com/artifacts.h2o.ai/releases/ai/h2o/dai/rel-1.4.2-9/x86_64-centos7/dai-1.4.2-linux-x86_64.sh\n",
        "!wget https://s3.amazonaws.com/artifacts.h2o.ai/releases/ai/h2o/dai/rel-1.7.0-214/x86_64-centos7/dai-1.7.0-linux-x86_64.sh\n",
        "!chmod 755 dai-1.7.0-linux-x86_64.sh\n",
        "!./dai-1.7.0-linux-x86_64.sh\n",
        "\n",
        "\n",
        "# install ngrok\n",
        "! wget -q -c -nc https://bin.equinox.io/c/4VmDzA7iaHb/ngrok-stable-linux-amd64.zip\n",
        "#! wget -q -c -nc https://bin.equinox.io/c/4VmDzA7iaHb/ngrok-stable-linux-amd64.tgz\n",
        "! unzip -qq -n ngrok-stable-linux-amd64.zip"
      ],
      "execution_count": 0,
      "outputs": [
        {
          "output_type": "stream",
          "text": [
            "Ign:1 https://developer.download.nvidia.com/compute/cuda/repos/ubuntu1804/x86_64  InRelease\n",
            "Get:2 http://security.ubuntu.com/ubuntu bionic-security InRelease [88.7 kB]\n",
            "Hit:3 http://ppa.launchpad.net/graphics-drivers/ppa/ubuntu bionic InRelease\n",
            "Get:4 https://cloud.r-project.org/bin/linux/ubuntu bionic-cran35/ InRelease [3,626 B]\n",
            "Ign:5 https://developer.download.nvidia.com/compute/machine-learning/repos/ubuntu1804/x86_64  InRelease\n",
            "Hit:6 https://developer.download.nvidia.com/compute/cuda/repos/ubuntu1804/x86_64  Release\n",
            "Get:7 https://developer.download.nvidia.com/compute/machine-learning/repos/ubuntu1804/x86_64  Release [564 B]\n",
            "Get:8 https://developer.download.nvidia.com/compute/machine-learning/repos/ubuntu1804/x86_64  Release.gpg [833 B]\n",
            "Hit:9 http://archive.ubuntu.com/ubuntu bionic InRelease\n",
            "Get:10 http://archive.ubuntu.com/ubuntu bionic-updates InRelease [88.7 kB]\n",
            "Get:11 http://ppa.launchpad.net/marutter/c2d4u3.5/ubuntu bionic InRelease [15.4 kB]\n",
            "Get:12 http://archive.ubuntu.com/ubuntu bionic-backports InRelease [74.6 kB]\n",
            "Get:13 https://cloud.r-project.org/bin/linux/ubuntu bionic-cran35/ Packages [65.5 kB]\n",
            "Get:15 https://developer.download.nvidia.com/compute/machine-learning/repos/ubuntu1804/x86_64  Packages [11.5 kB]\n",
            "Get:16 http://ppa.launchpad.net/marutter/c2d4u3.5/ubuntu bionic/main Sources [1,667 kB]\n",
            "Get:17 http://security.ubuntu.com/ubuntu bionic-security/main amd64 Packages [591 kB]\n",
            "Get:18 http://archive.ubuntu.com/ubuntu bionic-updates/universe amd64 Packages [1,248 kB]\n",
            "Get:19 http://security.ubuntu.com/ubuntu bionic-security/universe amd64 Packages [727 kB]\n",
            "Get:20 http://archive.ubuntu.com/ubuntu bionic-updates/main amd64 Packages [901 kB]\n",
            "Get:21 http://archive.ubuntu.com/ubuntu bionic-backports/universe amd64 Packages [3,930 B]\n",
            "Get:22 http://ppa.launchpad.net/marutter/c2d4u3.5/ubuntu bionic/main amd64 Packages [800 kB]\n",
            "Fetched 6,288 kB in 3s (1,868 kB/s)\n",
            "Reading package lists... Done\n",
            "Reading package lists... Done\n",
            "Building dependency tree       \n",
            "Reading state information... Done\n",
            "ocl-icd-opencl-dev is already the newest version (2.2.11-1ubuntu1).\n",
            "ocl-icd-opencl-dev set to manually installed.\n",
            "clinfo is already the newest version (2.2.18.03.26-1).\n",
            "libcairo2 is already the newest version (1.15.10-2ubuntu0.1).\n",
            "libcairo2 set to manually installed.\n",
            "The following package was automatically installed and is no longer required:\n",
            "  libnvidia-common-410\n",
            "Use 'apt autoremove' to remove it.\n",
            "Suggested packages:\n",
            "  opencl-clhpp-headers-doc\n",
            "The following NEW packages will be installed:\n",
            "  libpango1.0-0 libpangox-1.0-0 libpangoxft-1.0-0 opencl-clhpp-headers\n",
            "  opencl-headers\n",
            "0 upgraded, 5 newly installed, 0 to remove and 34 not upgraded.\n",
            "Need to get 121 kB of archives.\n",
            "After this operation, 918 kB of additional disk space will be used.\n",
            "Get:1 http://archive.ubuntu.com/ubuntu bionic/universe amd64 libpangox-1.0-0 amd64 0.0.2-5 [41.7 kB]\n",
            "Get:2 http://archive.ubuntu.com/ubuntu bionic-updates/main amd64 libpangoxft-1.0-0 amd64 1.40.14-1ubuntu0.1 [15.0 kB]\n",
            "Get:3 http://archive.ubuntu.com/ubuntu bionic-updates/universe amd64 libpango1.0-0 amd64 1.40.14-1ubuntu0.1 [3,344 B]\n",
            "Get:4 http://archive.ubuntu.com/ubuntu bionic/universe amd64 opencl-clhpp-headers all 2.0.10+git12-g5dd8bb9-1 [58.2 kB]\n",
            "Get:5 http://archive.ubuntu.com/ubuntu bionic/universe amd64 opencl-headers all 2.2~2018.02.21-gb5c3680-1 [2,728 B]\n",
            "Fetched 121 kB in 1s (194 kB/s)\n",
            "Selecting previously unselected package libpangox-1.0-0:amd64.\n",
            "(Reading database ... 131331 files and directories currently installed.)\n",
            "Preparing to unpack .../libpangox-1.0-0_0.0.2-5_amd64.deb ...\n",
            "Unpacking libpangox-1.0-0:amd64 (0.0.2-5) ...\n",
            "Selecting previously unselected package libpangoxft-1.0-0:amd64.\n",
            "Preparing to unpack .../libpangoxft-1.0-0_1.40.14-1ubuntu0.1_amd64.deb ...\n",
            "Unpacking libpangoxft-1.0-0:amd64 (1.40.14-1ubuntu0.1) ...\n",
            "Selecting previously unselected package libpango1.0-0:amd64.\n",
            "Preparing to unpack .../libpango1.0-0_1.40.14-1ubuntu0.1_amd64.deb ...\n",
            "Unpacking libpango1.0-0:amd64 (1.40.14-1ubuntu0.1) ...\n",
            "Selecting previously unselected package opencl-clhpp-headers.\n",
            "Preparing to unpack .../opencl-clhpp-headers_2.0.10+git12-g5dd8bb9-1_all.deb ...\n",
            "Unpacking opencl-clhpp-headers (2.0.10+git12-g5dd8bb9-1) ...\n",
            "Selecting previously unselected package opencl-headers.\n",
            "Preparing to unpack .../opencl-headers_2.2~2018.02.21-gb5c3680-1_all.deb ...\n",
            "Unpacking opencl-headers (2.2~2018.02.21-gb5c3680-1) ...\n",
            "Setting up opencl-clhpp-headers (2.0.10+git12-g5dd8bb9-1) ...\n",
            "Setting up libpangoxft-1.0-0:amd64 (1.40.14-1ubuntu0.1) ...\n",
            "Processing triggers for libc-bin (2.27-3ubuntu1) ...\n",
            "Setting up libpangox-1.0-0:amd64 (0.0.2-5) ...\n",
            "Setting up opencl-headers (2.2~2018.02.21-gb5c3680-1) ...\n",
            "Setting up libpango1.0-0:amd64 (1.40.14-1ubuntu0.1) ...\n",
            "Processing triggers for libc-bin (2.27-3ubuntu1) ...\n",
            "--2019-07-27 18:33:18--  https://s3.amazonaws.com/artifacts.h2o.ai/releases/ai/h2o/dai/rel-1.7.0-214/x86_64-centos7/dai-1.7.0-linux-x86_64.sh\n",
            "Resolving s3.amazonaws.com (s3.amazonaws.com)... 52.216.146.29\n",
            "Connecting to s3.amazonaws.com (s3.amazonaws.com)|52.216.146.29|:443... connected.\n",
            "HTTP request sent, awaiting response... 200 OK\n",
            "Length: 3595060398 (3.3G) [text/x-sh]\n",
            "Saving to: ‘dai-1.7.0-linux-x86_64.sh’\n",
            "\n",
            "dai-1.7.0-linux-x86 100%[===================>]   3.35G  12.4MB/s    in 81s     \n",
            "\n",
            "2019-07-27 18:34:39 (42.3 MB/s) - ‘dai-1.7.0-linux-x86_64.sh’ saved [3595060398/3595060398]\n",
            "\n",
            "Extracting to dai-1.7.0-linux-x86_64 ...\n",
            "Finished.\n",
            "\n",
            "============================ README_TAR_SH.txt ============================\n",
            "\n",
            "H2O Driverless AI                                                www.h2o.ai\n",
            "\n",
            "Please see the full Driverless AI documentation available at docs.h2o.ai:\n",
            "\n",
            "    http://docs.h2o.ai/driverless-ai/latest-stable/docs/userguide/index.html\n",
            "\n",
            "Starting Driverless AI\n",
            "\n",
            "    run-dai.sh\n",
            "\n",
            "Stopping Driverless AI\n",
            "\n",
            "    kill-dai.sh\n",
            "\n",
            "Debugging Driverless AI\n",
            "\n",
            "    cat log/dai.log\n",
            "    cat log/h2o.log\n",
            "    cat log/procsy.log\n",
            "    cat log/vis-server.log\n"
          ],
          "name": "stdout"
        }
      ]
    },
    {
      "cell_type": "code",
      "metadata": {
        "id": "8MnDqhLPDsP1",
        "colab_type": "code",
        "outputId": "e2078651-f3ce-4247-a1c0-1f9c91b2f7e7",
        "colab": {
          "base_uri": "https://localhost:8080/",
          "height": 115
        }
      },
      "source": [
        "NGROK_AUTH = \"2BAoUkDc1U2usgcKwfim9_5DbABuRuf9MNreYcAUjxq\"\n",
        "\n",
        "from time import sleep\n",
        "from IPython.display import clear_output\n",
        "import requests\n",
        "import json\n",
        "\n",
        "# keep everything running\n",
        "i=0\n",
        "while True:\n",
        "  try:\n",
        "    # start driverless\n",
        "    if len(get_ipython().getoutput('ps -ef | grep h2oai')) <= 2:\n",
        "      !nvidia-persistenced \n",
        "      !nvidia-smi -pm 1\n",
        "      !/content/dai-1.7.0-linux-x86_64/run-dai.sh\n",
        "      sleep(5)\n",
        "\n",
        "    ngrok_link = json.loads(requests.get('http://localhost:4040/api/tunnels').text)['tunnels'][0]['public_url']\n",
        "    print(ngrok_link)\n",
        "    print(\"Username: h2oai Password: h2oai\")\n",
        "    sleep(10)\n",
        "    requests.get(ngrok_link)\n",
        "  except (KeyboardInterrupt, SystemExit):\n",
        "      raise\n",
        "  except:\n",
        "    # create ngrok port\n",
        "    get_ipython().system_raw('./ngrok authtoken $NGROK_AUTH && ./ngrok http 12345 &')\n",
        "  i+=1\n",
        "  if i >=5:\n",
        "    clear_output(wait=True)\n",
        "    i=0\n"
      ],
      "execution_count": 0,
      "outputs": [
        {
          "output_type": "stream",
          "text": [
            "https://b51b6f6a.ngrok.io\n",
            "Username: h2oai Password: h2oai\n",
            "https://b51b6f6a.ngrok.io\n",
            "Username: h2oai Password: h2oai\n",
            "https://b51b6f6a.ngrok.io\n",
            "Username: h2oai Password: h2oai\n"
          ],
          "name": "stdout"
        }
      ]
    }
  ]
}